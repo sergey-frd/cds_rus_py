{
  "nbformat": 4,
  "nbformat_minor": 0,
  "metadata": {
    "colab": {
      "name": "read_git_hub_1.ipynb",
      "version": "0.3.2",
      "provenance": [],
      "include_colab_link": true
    },
    "kernelspec": {
      "name": "python3",
      "display_name": "Python 3"
    }
  },
  "cells": [
    {
      "cell_type": "markdown",
      "metadata": {
        "id": "view-in-github",
        "colab_type": "text"
      },
      "source": [
        "<a href=\"https://colab.research.google.com/github/sergey-frd/cds_rus_py/blob/master/read_git_hub_1.ipynb\" target=\"_parent\"><img src=\"https://colab.research.google.com/assets/colab-badge.svg\" alt=\"Open In Colab\"/></a>"
      ]
    },
    {
      "cell_type": "code",
      "metadata": {
        "id": "ugVfndIkXec8",
        "colab_type": "code",
        "colab": {}
      },
      "source": [
        "import pandas as pd\n"
      ],
      "execution_count": 0,
      "outputs": []
    },
    {
      "cell_type": "code",
      "metadata": {
        "id": "T1u0luIRXoOL",
        "colab_type": "code",
        "colab": {}
      },
      "source": [
        "import pandas as pd\n",
        "\n",
        "#url = 'https://github.com/sergey-frd/cds_rus_db/blob/master/detail.csv'\n",
        "#url = 'https://github.com/sergey-frd/cds_rus_db/blob/master/pix_price_all.csv'\n",
        "url = 'https://raw.githubusercontent.com/sergey-frd/cds_rus_db/master/detail.csv'\n",
        "# https://raw.githubusercontent.com/sergey-frd/cds_rus_db/master/LinRegr_Pix.csv\n",
        "#LinRegr_Pix.csv\n",
        "#pix_price.csv\n",
        "#pix_price_all.csv\n",
        "df1 = pd.read_csv(url, error_bad_lines=False)"
      ],
      "execution_count": 0,
      "outputs": []
    },
    {
      "cell_type": "code",
      "metadata": {
        "id": "Ofsj2aOwZZ2a",
        "colab_type": "code",
        "colab": {
          "base_uri": "https://localhost:8080/",
          "height": 1000
        },
        "outputId": "c52be010-e305-48ce-8fde-a693c3f878e4"
      },
      "source": [
        "print(df1)"
      ],
      "execution_count": 12,
      "outputs": [
        {
          "output_type": "stream",
          "text": [
            "            article                    lvl2  ... profit_Total  sum_1_m\n",
            "0       Belgorod001   /belgorodskaya-oblast  ...    260369.50  1052.31\n",
            "1       Belgorod002   /belgorodskaya-oblast  ...    186411.17  1052.31\n",
            "2       Belgorod003   /belgorodskaya-oblast  ...    188911.17  1052.31\n",
            "3       Belgorod004   /belgorodskaya-oblast  ...    168911.17  1052.31\n",
            "4       Belgorod005   /belgorodskaya-oblast  ...    198235.00  1021.25\n",
            "5       Belgorod006   /belgorodskaya-oblast  ...    200161.17  1052.31\n",
            "6       Belgorod007   /belgorodskaya-oblast  ...     51367.00  3786.62\n",
            "7       Belgorod008   /belgorodskaya-oblast  ...   -373399.00  3786.62\n",
            "8       Belgorod009   /belgorodskaya-oblast  ...    138889.83  3786.62\n",
            "9       Belgorod010   /belgorodskaya-oblast  ...     93450.33  3786.62\n",
            "10      Belgorod011   /belgorodskaya-oblast  ...   -141247.17  3786.62\n",
            "11      Belgorod012   /belgorodskaya-oblast  ...      2644.58  3786.62\n",
            "12      Belgorod013   /belgorodskaya-oblast  ...      2644.58  3786.62\n",
            "13      Belgorod014   /belgorodskaya-oblast  ...   -110954.17  3786.62\n",
            "14      Belgorod015   /belgorodskaya-oblast  ...     92661.17  1052.31\n",
            "15   Vladivostok002        /primorskiy-kray  ...    283867.00  3786.62\n",
            "16   Vladivostok003        /primorskiy-kray  ...    335618.33  3786.62\n",
            "17   Vladivostok004        /primorskiy-kray  ...    314160.00  3786.62\n",
            "18   Vladivostok005        /primorskiy-kray  ...    314160.00  3786.62\n",
            "19   Vladivostok007        /primorskiy-kray  ...    442774.92  3786.62\n",
            "20   Vladivostok008        /primorskiy-kray  ...    244233.25  3786.62\n",
            "21   Vladivostok010        /primorskiy-kray  ...    292566.58  3786.62\n",
            "22   Vladivostok011        /primorskiy-kray  ...    292566.58  3786.62\n",
            "23   Vladivostok018        /primorskiy-kray  ...    543516.33  1453.25\n",
            "24   Vladivostok019        /primorskiy-kray  ...    543516.33  1453.25\n",
            "25   Vladivostok023        /primorskiy-kray  ...    641224.67  1453.25\n",
            "26   Vladivostok025        /primorskiy-kray  ...   1968900.00  1550.00\n",
            "27   Vladivostok026        /primorskiy-kray  ...   1354089.58  3786.62\n",
            "28   Vladivostok027        /primorskiy-kray  ...   1354089.58  3786.62\n",
            "29   Vladivostok028        /primorskiy-kray  ...    363933.00  1453.25\n",
            "..              ...                     ...  ...          ...      ...\n",
            "629  Cheljabinsk026  /chelyabinskaya-oblast  ...    724714.58  3786.62\n",
            "630   Jaroslavl'001   /yaroslavskaya-oblast  ...     50105.58  3786.62\n",
            "631   Jaroslavl'002   /yaroslavskaya-oblast  ...    545556.50  3786.62\n",
            "632   Jaroslavl'003   /yaroslavskaya-oblast  ...    484306.50  3786.62\n",
            "633   Jaroslavl'004   /yaroslavskaya-oblast  ...    545556.50  3786.62\n",
            "634   Jaroslavl'005   /yaroslavskaya-oblast  ...    484306.50  3786.62\n",
            "635   Jaroslavl'006   /yaroslavskaya-oblast  ...    545556.50  3786.62\n",
            "636   Jaroslavl'007   /yaroslavskaya-oblast  ...    437431.50  3786.62\n",
            "637   Jaroslavl'008   /yaroslavskaya-oblast  ...    437431.50  3786.62\n",
            "638   Jaroslavl'009   /yaroslavskaya-oblast  ...    437431.50  3786.62\n",
            "639   Jaroslavl'010   /yaroslavskaya-oblast  ...    437431.50  3786.62\n",
            "640   Jaroslavl'011   /yaroslavskaya-oblast  ...    437431.50  3786.62\n",
            "641   Jaroslavl'012   /yaroslavskaya-oblast  ...    437431.50  3786.62\n",
            "642   Jaroslavl'013   /yaroslavskaya-oblast  ...    437431.50  3786.62\n",
            "643   Jaroslavl'014   /yaroslavskaya-oblast  ...    484306.50  3786.62\n",
            "644   Jaroslavl'015   /yaroslavskaya-oblast  ...    437431.50  3786.62\n",
            "645   Jaroslavl'016   /yaroslavskaya-oblast  ...    437431.50  3786.62\n",
            "646   Jaroslavl'017   /yaroslavskaya-oblast  ...    437431.50  3786.62\n",
            "647   Jaroslavl'018   /yaroslavskaya-oblast  ...    437431.50  3786.62\n",
            "648   Jaroslavl'019   /yaroslavskaya-oblast  ...    437431.50  3786.62\n",
            "649   Jaroslavl'020   /yaroslavskaya-oblast  ...    551389.83  3786.62\n",
            "650   Jaroslavl'021   /yaroslavskaya-oblast  ...    484306.50  3786.62\n",
            "651   Jaroslavl'022   /yaroslavskaya-oblast  ...    437431.50  3786.62\n",
            "652   Jaroslavl'023   /yaroslavskaya-oblast  ...    723450.33  3786.62\n",
            "653   Jaroslavl'025   /yaroslavskaya-oblast  ...    662864.33  3786.62\n",
            "654   Jaroslavl'026   /yaroslavskaya-oblast  ...    763359.00  3786.62\n",
            "655   Jaroslavl'027   /yaroslavskaya-oblast  ...    357431.50  3786.62\n",
            "656   Jaroslavl'029   /yaroslavskaya-oblast  ...    357431.50  3786.62\n",
            "657   Jaroslavl'030   /yaroslavskaya-oblast  ...    474931.50  3786.62\n",
            "658   Jaroslavl'031   /yaroslavskaya-oblast  ...    283150.67  3786.62\n",
            "\n",
            "[659 rows x 37 columns]\n"
          ],
          "name": "stdout"
        }
      ]
    }
  ]
}